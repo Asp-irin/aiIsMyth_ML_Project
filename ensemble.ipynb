{
 "cells": [
  {
   "cell_type": "code",
   "execution_count": null,
   "metadata": {},
   "outputs": [],
   "source": [
    "from torchvision import models\n",
    "import torch\n",
    "import torch.nn as nn\n"
   ]
  },
  {
   "cell_type": "markdown",
   "metadata": {},
   "source": [
    "Loading the all three models"
   ]
  },
  {
   "cell_type": "code",
   "execution_count": 2,
   "metadata": {},
   "outputs": [
    {
     "name": "stderr",
     "output_type": "stream",
     "text": [
      "/home/pushan/anaconda3/envs/myenv/lib/python3.10/site-packages/torchvision/models/_utils.py:208: UserWarning: The parameter 'pretrained' is deprecated since 0.13 and may be removed in the future, please use 'weights' instead.\n",
      "  warnings.warn(\n",
      "/home/pushan/anaconda3/envs/myenv/lib/python3.10/site-packages/torchvision/models/_utils.py:223: UserWarning: Arguments other than a weight enum or `None` for 'weights' are deprecated since 0.13 and may be removed in the future. The current behavior is equivalent to passing `weights=ResNet50_Weights.IMAGENET1K_V1`. You can also use `weights=ResNet50_Weights.DEFAULT` to get the most up-to-date weights.\n",
      "  warnings.warn(msg)\n",
      "/tmp/ipykernel_168078/2911302342.py:7: FutureWarning: You are using `torch.load` with `weights_only=False` (the current default value), which uses the default pickle module implicitly. It is possible to construct malicious pickle data which will execute arbitrary code during unpickling (See https://github.com/pytorch/pytorch/blob/main/SECURITY.md#untrusted-models for more details). In a future release, the default value for `weights_only` will be flipped to `True`. This limits the functions that could be executed during unpickling. Arbitrary objects will no longer be allowed to be loaded via this mode unless they are explicitly allowlisted by the user via `torch.serialization.add_safe_globals`. We recommend you start setting `weights_only=True` for any use case where you don't have full control of the loaded file. Please open an issue on GitHub for any issues related to this experimental feature.\n",
      "  resnet_model.load_state_dict(torch.load('/home/pushan/Desktop/ML/ML_PROJECT/4628934/final_files/resnet.pth', map_location=device))\n"
     ]
    }
   ],
   "source": [
    "# Set the device\n",
    "device = torch.device(\"cuda\" if torch.cuda.is_available() else \"cpu\")\n",
    "\n",
    "# Load the saved ResNet-50 model\n",
    "resnet_model = models.resnet50(pretrained=True)\n",
    "resnet_model.fc = nn.Linear(resnet_model.fc.in_features, 1000)  # Adjust to match the original model's output units\n",
    "resnet_model.load_state_dict(torch.load('/home/pushan/Desktop/ML/ML_PROJECT/4628934/final_files/resnet.pth', map_location=device))\n",
    "resnet_model = resnet_model.to(device)  # Move the model to GPU or CPU\n",
    "resnet_model.eval()\n",
    "\n",
    "# Create a new ResNet-50 model with the correct final layer\n",
    "new_resnet_model = models.resnet50(pretrained=True)\n",
    "new_resnet_model.fc = nn.Linear(new_resnet_model.fc.in_features, 2)  # Adjust to match the desired output units\n",
    "new_resnet_model = new_resnet_model.to(device)  # Move the new model to GPU or CPU\n",
    "\n",
    "# Copy the weights and biases from the loaded model to the new model\n",
    "new_resnet_model.fc.weight.data = resnet_model.fc.weight.data[0:2].to(device)  # Copy only the first 2 output units and move to GPU\n",
    "new_resnet_model.fc.bias.data = resnet_model.fc.bias.data[0:2].to(device)"
   ]
  },
  {
   "cell_type": "code",
   "execution_count": 7,
   "metadata": {},
   "outputs": [
    {
     "name": "stderr",
     "output_type": "stream",
     "text": [
      "/tmp/ipykernel_168078/2992101551.py:4: FutureWarning: You are using `torch.load` with `weights_only=False` (the current default value), which uses the default pickle module implicitly. It is possible to construct malicious pickle data which will execute arbitrary code during unpickling (See https://github.com/pytorch/pytorch/blob/main/SECURITY.md#untrusted-models for more details). In a future release, the default value for `weights_only` will be flipped to `True`. This limits the functions that could be executed during unpickling. Arbitrary objects will no longer be allowed to be loaded via this mode unless they are explicitly allowlisted by the user via `torch.serialization.add_safe_globals`. We recommend you start setting `weights_only=True` for any use case where you don't have full control of the loaded file. Please open an issue on GitHub for any issues related to this experimental feature.\n",
      "  vgg_model.load_state_dict(torch.load('/home/pushan/Desktop/ML/ML_PROJECT/4628934/final_files/vggnet.pth', map_location=device))\n"
     ]
    }
   ],
   "source": [
    "# Load the saved VGG16 model\n",
    "vgg_model = models.vgg19(pretrained=True)\n",
    "vgg_model.classifier[6] = nn.Linear(vgg_model.classifier[6].in_features, 1000)  # Adjust to match the original model's output units\n",
    "vgg_model.load_state_dict(torch.load('/home/pushan/Desktop/ML/ML_PROJECT/4628934/final_files/vggnet.pth', map_location=device))\n",
    "vgg_model = vgg_model.to(device)  # Move the model to GPU or CPU\n",
    "vgg_model.eval()\n",
    "\n",
    "# Create a new VGG16 model with the correct final layer\n",
    "new_vgg_model = models.vgg19(pretrained=True)\n",
    "new_vgg_model.classifier[6] = nn.Linear(new_vgg_model.classifier[6].in_features, 2)  # Adjust to match the desired output units\n",
    "new_vgg_model = new_vgg_model.to(device)  # Move the new model to GPU or CPU\n",
    "\n",
    "# Copy the weights and biases from the loaded model to the new model\n",
    "new_vgg_model.classifier[6].weight.data = vgg_model.classifier[6].weight.data[0:2].to(device)  # Copy only the first 2 output units and move to GPU\n",
    "new_vgg_model.classifier[6].bias.data = vgg_model.classifier[6].bias.data[0:2].to(device)\n"
   ]
  },
  {
   "cell_type": "code",
   "execution_count": 8,
   "metadata": {},
   "outputs": [
    {
     "name": "stderr",
     "output_type": "stream",
     "text": [
      "/home/pushan/anaconda3/envs/myenv/lib/python3.10/site-packages/torchvision/models/_utils.py:223: UserWarning: Arguments other than a weight enum or `None` for 'weights' are deprecated since 0.13 and may be removed in the future. The current behavior is equivalent to passing `weights=EfficientNet_B0_Weights.IMAGENET1K_V1`. You can also use `weights=EfficientNet_B0_Weights.DEFAULT` to get the most up-to-date weights.\n",
      "  warnings.warn(msg)\n",
      "/tmp/ipykernel_168078/3766249967.py:4: FutureWarning: You are using `torch.load` with `weights_only=False` (the current default value), which uses the default pickle module implicitly. It is possible to construct malicious pickle data which will execute arbitrary code during unpickling (See https://github.com/pytorch/pytorch/blob/main/SECURITY.md#untrusted-models for more details). In a future release, the default value for `weights_only` will be flipped to `True`. This limits the functions that could be executed during unpickling. Arbitrary objects will no longer be allowed to be loaded via this mode unless they are explicitly allowlisted by the user via `torch.serialization.add_safe_globals`. We recommend you start setting `weights_only=True` for any use case where you don't have full control of the loaded file. Please open an issue on GitHub for any issues related to this experimental feature.\n",
      "  efficientnet_model.load_state_dict(torch.load('/home/pushan/Desktop/ML/ML_PROJECT/4628934/final_files/efficientNet.pth', map_location=device))\n"
     ]
    }
   ],
   "source": [
    "# Load the saved EfficientNet model\n",
    "efficientnet_model = models.efficientnet_b0(pretrained=True)  # Or another EfficientNet variant\n",
    "efficientnet_model.classifier[1] = nn.Linear(efficientnet_model.classifier[1].in_features, 1000)  # Adjust to match the original model's output units\n",
    "efficientnet_model.load_state_dict(torch.load('/home/pushan/Desktop/ML/ML_PROJECT/4628934/final_files/efficientNet.pth', map_location=device))\n",
    "efficientnet_model = efficientnet_model.to(device)  # Move the model to GPU or CPU\n",
    "efficientnet_model.eval()\n",
    "\n",
    "# Create a new EfficientNet model with the correct final layer\n",
    "new_efficientnet_model = models.efficientnet_b0(pretrained=True)  # Or another EfficientNet variant\n",
    "new_efficientnet_model.classifier[1] = nn.Linear(new_efficientnet_model.classifier[1].in_features, 2)  # Adjust to match the desired output units\n",
    "new_efficientnet_model = new_efficientnet_model.to(device)  # Move the new model to GPU or CPU\n",
    "\n",
    "# Copy the weights and biases from the loaded model to the new model\n",
    "new_efficientnet_model.classifier[1].weight.data = efficientnet_model.classifier[1].weight.data[0:2].to(device)  # Copy only the first 2 output units and move to GPU\n",
    "new_efficientnet_model.classifier[1].bias.data = efficientnet_model.classifier[1].bias.data[0:2].to(device)\n"
   ]
  },
  {
   "cell_type": "markdown",
   "metadata": {},
   "source": [
    "Dataloaders and preprocessing"
   ]
  },
  {
   "cell_type": "code",
   "execution_count": 10,
   "metadata": {},
   "outputs": [],
   "source": [
    "import torch\n",
    "import torch.nn as nn\n",
    "import torch.optim as optim\n",
    "from torchvision import datasets, transforms, models\n",
    "import os"
   ]
  },
  {
   "cell_type": "code",
   "execution_count": 11,
   "metadata": {},
   "outputs": [],
   "source": [
    "# Define data transformations for data augmentation and normalization\n",
    "data_transforms = {\n",
    "    'train': transforms.Compose([\n",
    "        transforms.RandomResizedCrop(224),\n",
    "        transforms.RandomHorizontalFlip(),\n",
    "        transforms.ToTensor(),\n",
    "        transforms.Normalize([0.485, 0.456, 0.406], [0.229, 0.224, 0.225])\n",
    "    ]),\n",
    "    'val': transforms.Compose([\n",
    "        transforms.Resize(256),\n",
    "        transforms.CenterCrop(224),\n",
    "        transforms.ToTensor(),\n",
    "        transforms.Normalize([0.485, 0.456, 0.406], [0.229, 0.224, 0.225])\n",
    "    ]),\n",
    "    'test': transforms.Compose([\n",
    "        transforms.Resize(256),\n",
    "        transforms.CenterCrop(224),\n",
    "        transforms.ToTensor(),\n",
    "        transforms.Normalize([0.485, 0.456, 0.406], [0.229, 0.224, 0.225])\n",
    "    ]),\n",
    "}"
   ]
  },
  {
   "cell_type": "code",
   "execution_count": null,
   "metadata": {},
   "outputs": [],
   "source": [
    "# Define the data directory\n",
    "data_dir = '/home/pushan/Desktop/ML/ML_PROJECT/4628934/roi_extracted'\n",
    "\n",
    "# Create data loaders\n",
    "image_datasets = {x: datasets.ImageFolder(os.path.join(data_dir, x), data_transforms[x]) for x in ['train', 'val', 'test']}\n",
    "#image_datasets"
   ]
  },
  {
   "cell_type": "code",
   "execution_count": 13,
   "metadata": {},
   "outputs": [
    {
     "name": "stdout",
     "output_type": "stream",
     "text": [
      "{'train': 6452, 'val': 806, 'test': 809}\n"
     ]
    },
    {
     "data": {
      "text/plain": [
       "['cocci', 'healthy', 'ncd', 'salmo']"
      ]
     },
     "execution_count": 13,
     "metadata": {},
     "output_type": "execute_result"
    }
   ],
   "source": [
    "dataloaders = {x: torch.utils.data.DataLoader(image_datasets[x], batch_size=4, shuffle=True, num_workers=4) for x in ['train', 'val', 'test']}\n",
    "dataset_sizes = {x: len(image_datasets[x]) for x in ['train', 'val', 'test']}\n",
    "print(dataset_sizes)\n",
    "\n",
    "class_names = image_datasets['train'].classes\n",
    "class_names"
   ]
  },
  {
   "cell_type": "markdown",
   "metadata": {},
   "source": [
    "Test of majority voting model"
   ]
  },
  {
   "cell_type": "code",
   "execution_count": 16,
   "metadata": {},
   "outputs": [
    {
     "name": "stdout",
     "output_type": "stream",
     "text": [
      "Test Loss: 0.4058, Test Accuracy: 0.9184\n"
     ]
    }
   ],
   "source": [
    "from sklearn.metrics import confusion_matrix, ConfusionMatrixDisplay\n",
    "import matplotlib.pyplot as plt\n",
    "import torch\n",
    "import numpy as np\n",
    "\n",
    "# Set models to evaluation mode\n",
    "resnet_model.eval()\n",
    "vgg_model.eval()\n",
    "efficientnet_model.eval()\n",
    "criterion = nn.CrossEntropyLoss()\n",
    "\n",
    "# Initialize test accuracy and loss\n",
    "test_loss = 0.0\n",
    "correct_predictions = 0\n",
    "\n",
    "# Initialize lists to store predictions and true labels for the confusion matrix\n",
    "all_preds = []\n",
    "all_labels = []\n",
    "\n",
    "# Turn off gradients for validation (saves memory and computations)\n",
    "with torch.no_grad():\n",
    "    for inputs, labels in dataloaders['test']:\n",
    "        inputs, labels = inputs.to(device), labels.to(device)\n",
    "\n",
    "        # Forward pass for each model\n",
    "        resnet_outputs = resnet_model(inputs)\n",
    "        vgg_outputs = vgg_model(inputs)\n",
    "        efficientnet_outputs = efficientnet_model(inputs)\n",
    "\n",
    "        # Get predictions from each model\n",
    "        _, resnet_preds = torch.max(resnet_outputs, 1)\n",
    "        _, vgg_preds = torch.max(vgg_outputs, 1)\n",
    "        _, efficientnet_preds = torch.max(efficientnet_outputs, 1)\n",
    "\n",
    "        # Majority voting - Get the most frequent prediction\n",
    "        stacked_preds = torch.stack([resnet_preds, vgg_preds, efficientnet_preds], dim=1)\n",
    "        majority_preds, _ = torch.mode(stacked_preds, dim=1)\n",
    "\n",
    "        # Calculate accuracy\n",
    "        correct_predictions += torch.sum(majority_preds == labels.data)\n",
    "        all_preds.extend(majority_preds.cpu().numpy())\n",
    "        all_labels.extend(labels.cpu().numpy())\n",
    "\n",
    "        # Calculate loss (use the average of all models' losses)\n",
    "        resnet_loss = criterion(resnet_outputs, labels)\n",
    "        vgg_loss = criterion(vgg_outputs, labels)\n",
    "        efficientnet_loss = criterion(efficientnet_outputs, labels)\n",
    "        loss = (resnet_loss + vgg_loss + efficientnet_loss) / 3\n",
    "        test_loss += loss.item() * inputs.size(0)\n",
    "\n",
    "# Calculate average loss and accuracy\n",
    "test_loss = test_loss / dataset_sizes['test']\n",
    "test_acc = correct_predictions.double() / dataset_sizes['test']\n",
    "\n",
    "print(f'Test Loss: {test_loss:.4f}, Test Accuracy: {test_acc:.4f}')\n"
   ]
  },
  {
   "cell_type": "code",
   "execution_count": 17,
   "metadata": {},
   "outputs": [
    {
     "data": {
      "image/png": "[encoded data removed]",
      "text/plain": [
       "<Figure size 640x480 with 2 Axes>"
      ]
     },
     "metadata": {},
     "output_type": "display_data"
    }
   ],
   "source": [
    "\n",
    "# Compute and display the confusion matrix\n",
    "cm = confusion_matrix(all_labels, all_preds)\n",
    "\n",
    "# Visualize the confusion matrix\n",
    "disp = ConfusionMatrixDisplay(confusion_matrix=cm)\n",
    "disp.plot(cmap=plt.cm.Blues)\n",
    "plt.title(\"Confusion Matrix (Ensemble Model)\")\n",
    "plt.show()\n"
   ]
  }
 ],
 "metadata": {
  "kernelspec": {
   "display_name": "myenv",
   "language": "python",
   "name": "python3"
  },
  "language_info": {
   "codemirror_mode": {
    "name": "ipython",
    "version": 3
   },
   "file_extension": ".py",
   "mimetype": "text/x-python",
   "name": "python",
   "nbconvert_exporter": "python",
   "pygments_lexer": "ipython3",
   "version": "3.10.15"
  }
 },
 "nbformat": 4,
 "nbformat_minor": 2
}
