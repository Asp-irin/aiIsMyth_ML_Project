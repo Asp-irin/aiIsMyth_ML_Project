{
  "nbformat": 4,
  "nbformat_minor": 0,
  "metadata": {
    "colab": {
      "provenance": [],
      "gpuType": "T4"
    },
    "kernelspec": {
      "name": "python3",
      "display_name": "Python 3"
    },
    "language_info": {
      "name": "python"
    },
    "accelerator": "GPU"
  },
  "cells": [
    {
      "cell_type": "markdown",
      "source": [
        "# Library import and data preprocessing"
      ],
      "metadata": {
        "id": "vDFhbx8Kqr0D"
      }
    },
    {
      "cell_type": "markdown",
      "source": [
        "**Importing the libraries**"
      ],
      "metadata": {
        "id": "nYDx6_5RnZEW"
      }
    },
    {
      "cell_type": "code",
      "execution_count": null,
      "metadata": {
        "colab": {
          "base_uri": "https://localhost:8080/"
        },
        "id": "abWdFx6quFm-",
        "outputId": "af595022-c374-4df4-90ee-2b0cdcd78022"
      },
      "outputs": [
        {
          "output_type": "stream",
          "name": "stdout",
          "text": [
            "True\n"
          ]
        }
      ],
      "source": [
        "import torch\n",
        "print(torch.cuda.is_available())"
      ]
    },
    {
      "cell_type": "code",
      "source": [
        "import torch\n",
        "import torch.nn as nn\n",
        "import torch.optim as optim\n",
        "from torchvision import datasets, transforms, models\n",
        "import os"
      ],
      "metadata": {
        "id": "OW6sgsPfuUzU"
      },
      "execution_count": null,
      "outputs": []
    },
    {
      "cell_type": "markdown",
      "source": [
        "**Data Transformation**\n",
        "\n",
        "Defines a set of transformations to be applied to images for data augmentation and normalization during the training, validation, and testing phases."
      ],
      "metadata": {
        "id": "7rbafPb4nrL4"
      }
    },
    {
      "cell_type": "code",
      "source": [
        "# Define data transformations for data augmentation and normalization\n",
        "data_transforms = {\n",
        "    'train': transforms.Compose([\n",
        "        transforms.RandomResizedCrop(224),\n",
        "        transforms.RandomHorizontalFlip(),\n",
        "        transforms.ToTensor(),\n",
        "        transforms.Normalize([0.485, 0.456, 0.406], [0.229, 0.224, 0.225])\n",
        "    ]),\n",
        "    'val': transforms.Compose([\n",
        "        transforms.Resize(256),\n",
        "        transforms.CenterCrop(224),\n",
        "        transforms.ToTensor(),\n",
        "        transforms.Normalize([0.485, 0.456, 0.406], [0.229, 0.224, 0.225])\n",
        "    ]),\n",
        "    'test': transforms.Compose([\n",
        "        transforms.Resize(256),\n",
        "        transforms.CenterCrop(224),\n",
        "        transforms.ToTensor(),\n",
        "        transforms.Normalize([0.485, 0.456, 0.406], [0.229, 0.224, 0.225])\n",
        "    ]),\n",
        "}"
      ],
      "metadata": {
        "id": "YVXxAgmfCquc"
      },
      "execution_count": null,
      "outputs": []
    },
    {
      "cell_type": "markdown",
      "source": [
        "Importing the annotated and labeled dataset"
      ],
      "metadata": {
        "id": "XL-pEBoFn5LF"
      }
    },
    {
      "cell_type": "code",
      "source": [
        "# Define the data directory\n",
        "data_dir = '/content/drive/MyDrive/ML_PROJECT/dataset'\n",
        "\n",
        "# Create data loaders\n",
        "image_datasets = {x: datasets.ImageFolder(os.path.join(data_dir, x), data_transforms[x]) for x in ['train', 'val', 'test']}\n",
        "#image_datasets"
      ],
      "metadata": {
        "id": "H9pgR1W7CuR0"
      },
      "execution_count": null,
      "outputs": []
    },
    {
      "cell_type": "markdown",
      "source": [
        "**Dataloader**\n",
        "\n",
        "for loading and batching image datasets and retrieves the dataset sizes and class names."
      ],
      "metadata": {
        "id": "whHupHfJoKvs"
      }
    },
    {
      "cell_type": "code",
      "source": [
        "dataloaders = {x: torch.utils.data.DataLoader(image_datasets[x], batch_size=4, shuffle=True, num_workers=4) for x in ['train', 'val', 'test']}\n",
        "dataset_sizes = {x: len(image_datasets[x]) for x in ['train', 'val', 'test']}\n",
        "print(dataset_sizes)\n",
        "\n",
        "class_names = image_datasets['train'].classes\n",
        "class_names"
      ],
      "metadata": {
        "colab": {
          "base_uri": "https://localhost:8080/"
        },
        "id": "ae3pPa8vKdNi",
        "outputId": "904ab05a-f3fe-4ddc-a893-cc54e61cd19d"
      },
      "execution_count": null,
      "outputs": [
        {
          "output_type": "stream",
          "name": "stdout",
          "text": [
            "{'train': 5704, 'val': 923, 'test': 185}\n"
          ]
        },
        {
          "output_type": "execute_result",
          "data": {
            "text/plain": [
              "['cocci', 'healthy', 'ncd', 'salmo']"
            ]
          },
          "metadata": {},
          "execution_count": 30
        }
      ]
    }
  ]
}