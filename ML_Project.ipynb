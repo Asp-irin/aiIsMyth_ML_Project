{
  "nbformat": 4,
  "nbformat_minor": 0,
  "metadata": {
    "colab": {
      "provenance": [],
      "gpuType": "T4"
    },
    "kernelspec": {
      "name": "python3",
      "display_name": "Python 3"
    },
    "language_info": {
      "name": "python"
    },
    "accelerator": "GPU"
  },
  "cells": [
    {
      "cell_type": "markdown",
      "source": [
        "# Library import and data preprocessing"
      ],
      "metadata": {
        "id": "vDFhbx8Kqr0D"
      }
    },
    {
      "cell_type": "markdown",
      "source": [
        "**Importing the libraries**"
      ],
      "metadata": {
        "id": "nYDx6_5RnZEW"
      }
    },
    {
      "cell_type": "code",
      "execution_count": null,
      "metadata": {
        "colab": {
          "base_uri": "https://localhost:8080/"
        },
        "id": "abWdFx6quFm-",
        "outputId": "af595022-c374-4df4-90ee-2b0cdcd78022"
      },
      "outputs": [
        {
          "output_type": "stream",
          "name": "stdout",
          "text": [
            "True\n"
          ]
        }
      ],
      "source": [
        "import torch\n",
        "print(torch.cuda.is_available())"
      ]
    },
    {
      "cell_type": "code",
      "source": [
        "import torch\n",
        "import torch.nn as nn\n",
        "import torch.optim as optim\n",
        "from torchvision import datasets, transforms, models\n",
        "import os"
      ],
      "metadata": {
        "id": "OW6sgsPfuUzU"
      },
      "execution_count": null,
      "outputs": []
    },
    {
      "cell_type": "markdown",
      "source": [
        "**Data Transformation**\n",
        "\n",
        "Defines a set of transformations to be applied to images for data augmentation and normalization during the training, validation, and testing phases."
      ],
      "metadata": {
        "id": "7rbafPb4nrL4"
      }
    },
    {
      "cell_type": "code",
      "source": [
        "# Define data transformations for data augmentation and normalization\n",
        "data_transforms = {\n",
        "    'train': transforms.Compose([\n",
        "        transforms.RandomResizedCrop(224),\n",
        "        transforms.RandomHorizontalFlip(),\n",
        "        transforms.ToTensor(),\n",
        "        transforms.Normalize([0.485, 0.456, 0.406], [0.229, 0.224, 0.225])\n",
        "    ]),\n",
        "    'val': transforms.Compose([\n",
        "        transforms.Resize(256),\n",
        "        transforms.CenterCrop(224),\n",
        "        transforms.ToTensor(),\n",
        "        transforms.Normalize([0.485, 0.456, 0.406], [0.229, 0.224, 0.225])\n",
        "    ]),\n",
        "    'test': transforms.Compose([\n",
        "        transforms.Resize(256),\n",
        "        transforms.CenterCrop(224),\n",
        "        transforms.ToTensor(),\n",
        "        transforms.Normalize([0.485, 0.456, 0.406], [0.229, 0.224, 0.225])\n",
        "    ]),\n",
        "}"
      ],
      "metadata": {
        "id": "YVXxAgmfCquc"
      },
      "execution_count": null,
      "outputs": []
    },
    {
      "cell_type": "markdown",
      "source": [
        "Importing the annotated and labeled dataset"
      ],
      "metadata": {
        "id": "XL-pEBoFn5LF"
      }
    },
    {
      "cell_type": "code",
      "source": [
        "# Define the data directory\n",
        "data_dir = '/content/drive/MyDrive/ML_PROJECT/dataset'\n",
        "\n",
        "# Create data loaders\n",
        "image_datasets = {x: datasets.ImageFolder(os.path.join(data_dir, x), data_transforms[x]) for x in ['train', 'val', 'test']}\n",
        "#image_datasets"
      ],
      "metadata": {
        "id": "H9pgR1W7CuR0"
      },
      "execution_count": null,
      "outputs": []
    },
    {
      "cell_type": "markdown",
      "source": [
        "**Dataloader**\n",
        "\n",
        "for loading and batching image datasets and retrieves the dataset sizes and class names."
      ],
      "metadata": {
        "id": "whHupHfJoKvs"
      }
    },
    {
      "cell_type": "code",
      "source": [
        "dataloaders = {x: torch.utils.data.DataLoader(image_datasets[x], batch_size=4, shuffle=True, num_workers=4) for x in ['train', 'val', 'test']}\n",
        "dataset_sizes = {x: len(image_datasets[x]) for x in ['train', 'val', 'test']}\n",
        "print(dataset_sizes)\n",
        "\n",
        "class_names = image_datasets['train'].classes\n",
        "class_names"
      ],
      "metadata": {
        "colab": {
          "base_uri": "https://localhost:8080/"
        },
        "id": "ae3pPa8vKdNi",
        "outputId": "904ab05a-f3fe-4ddc-a893-cc54e61cd19d"
      },
      "execution_count": null,
      "outputs": [
        {
          "output_type": "stream",
          "name": "stdout",
          "text": [
            "{'train': 5704, 'val': 923, 'test': 185}\n"
          ]
        },
        {
          "output_type": "execute_result",
          "data": {
            "text/plain": [
              "['cocci', 'healthy', 'ncd', 'salmo']"
            ]
          },
          "metadata": {},
          "execution_count": 30
        }
      ]
    },
    {
      "cell_type": "markdown",
      "source": [
        "# Classification Model"
      ],
      "metadata": {
        "id": "Xr8za2yQqiHT"
      }
    },
    {
      "cell_type": "markdown",
      "source": [
        "**Resnet50**\n",
        "\n",
        "The pretrained model used for prediction by freezing all the layer except the final layer(classification layer) allowing model to update weight of the classification layer according to the given dataset.\n"
      ],
      "metadata": {
        "id": "Xvu6zbofoVav"
      }
    },
    {
      "cell_type": "code",
      "source": [
        "# Load the pre-trained ResNet-50 model\n",
        "model = models.resnet50(pretrained=True)\n",
        "\n",
        "# Freeze all layers except the final classification layer\n",
        "for name, param in model.named_parameters():\n",
        "    if \"fc\" in name:  # Unfreeze the final classification layer\n",
        "        param.requires_grad = True\n",
        "    else:\n",
        "        param.requires_grad = False\n",
        "\n",
        "# Define the loss function and optimizer\n",
        "criterion = nn.CrossEntropyLoss()\n",
        "optimizer = optim.SGD(filter(lambda p: p.requires_grad, model.parameters()), lr=0.001, momentum=0.9)\n",
        "\n",
        "# Move the model to the GPU if available\n",
        "device = torch.device(\"cuda:0\" if torch.cuda.is_available() else \"cpu\")\n",
        "model = model.to(device)\n"
      ],
      "metadata": {
        "id": "NaogubJeL83v"
      },
      "execution_count": null,
      "outputs": []
    },
    {
      "cell_type": "markdown",
      "source": [
        "**Training the model**\n",
        "\n",
        "Using transfer learning on resnet50 model to use it for classification of poultry disease given the fecal images\n",
        "\n"
      ],
      "metadata": {
        "id": "MiccAYgRpBkr"
      }
    },
    {
      "cell_type": "code",
      "source": [
        "# Training loop\n",
        "num_epochs = 15\n",
        "for epoch in range(num_epochs):\n",
        "    for phase in ['train', 'val']:\n",
        "        if phase == 'train':\n",
        "            model.train()\n",
        "        else:\n",
        "            model.eval()\n",
        "\n",
        "        running_loss = 0.0\n",
        "        running_corrects = 0\n",
        "\n",
        "        for inputs, labels in dataloaders[phase]:\n",
        "            inputs = inputs.to(device)\n",
        "            labels = labels.to(device)\n",
        "\n",
        "            optimizer.zero_grad()\n",
        "\n",
        "            with torch.set_grad_enabled(phase == 'train'):\n",
        "                outputs = model(inputs)\n",
        "                _, preds = torch.max(outputs, 1)\n",
        "                loss = criterion(outputs, labels)\n",
        "\n",
        "                if phase == 'train':\n",
        "                    loss.backward()\n",
        "                    optimizer.step()\n",
        "\n",
        "            running_loss += loss.item() * inputs.size(0)\n",
        "            running_corrects += torch.sum(preds == labels.data)\n",
        "\n",
        "        epoch_loss = running_loss / dataset_sizes[phase]\n",
        "        epoch_acc = running_corrects.double() / dataset_sizes[phase]\n",
        "\n",
        "        print(f'{phase} Loss: {epoch_loss:.4f} Acc: {epoch_acc:.4f}')\n",
        "\n",
        "print(\"Training complete!\")"
      ],
      "metadata": {
        "colab": {
          "base_uri": "https://localhost:8080/"
        },
        "id": "eeT7-Ft3MNNd",
        "outputId": "29aefa0c-db99-471c-ec93-6ffcb8effac8"
      },
      "execution_count": null,
      "outputs": [
        {
          "output_type": "stream",
          "name": "stdout",
          "text": [
            "train Loss: 0.8120 Acc: 0.7200\n",
            "val Loss: 0.2808 Acc: 0.9112\n",
            "train Loss: 0.6229 Acc: 0.7740\n",
            "val Loss: 0.3430 Acc: 0.8754\n",
            "train Loss: 0.6268 Acc: 0.7779\n",
            "val Loss: 0.1989 Acc: 0.9317\n",
            "train Loss: 0.5769 Acc: 0.7959\n",
            "val Loss: 0.1792 Acc: 0.9328\n",
            "train Loss: 0.6109 Acc: 0.7877\n",
            "val Loss: 0.2757 Acc: 0.9122\n",
            "train Loss: 0.5659 Acc: 0.7998\n",
            "val Loss: 0.1547 Acc: 0.9491\n",
            "train Loss: 0.5641 Acc: 0.8003\n",
            "val Loss: 0.1608 Acc: 0.9491\n",
            "train Loss: 0.5716 Acc: 0.8054\n",
            "val Loss: 0.1585 Acc: 0.9480\n",
            "train Loss: 0.5372 Acc: 0.8115\n",
            "val Loss: 0.1463 Acc: 0.9588\n",
            "train Loss: 0.5467 Acc: 0.8084\n",
            "val Loss: 0.1912 Acc: 0.9350\n",
            "train Loss: 0.5522 Acc: 0.8093\n",
            "val Loss: 0.1416 Acc: 0.9512\n",
            "train Loss: 0.5480 Acc: 0.8079\n",
            "val Loss: 0.1646 Acc: 0.9372\n",
            "train Loss: 0.5369 Acc: 0.8082\n",
            "val Loss: 0.1209 Acc: 0.9588\n",
            "train Loss: 0.5508 Acc: 0.8112\n",
            "val Loss: 0.2042 Acc: 0.9198\n",
            "train Loss: 0.5549 Acc: 0.8084\n",
            "val Loss: 0.1547 Acc: 0.9447\n",
            "Training complete!\n"
          ]
        }
      ]
    },
    {
      "cell_type": "markdown",
      "source": [
        "**Model Evaluation**\n",
        "\n",
        "Evaluating the model's performance on the test dataset to achieve the test accuracy > 92%"
      ],
      "metadata": {
        "id": "K_lsQqsUpaPu"
      }
    },
    {
      "cell_type": "code",
      "source": [
        "# Set model to evaluation mode\n",
        "model.eval()\n",
        "\n",
        "# Initialize test accuracy and loss\n",
        "test_loss = 0.0\n",
        "correct_predictions = 0\n",
        "\n",
        "# Turn off gradients for validation (saves memory and computations)\n",
        "with torch.no_grad():\n",
        "    for inputs, labels in dataloaders['test']:\n",
        "        inputs, labels = inputs.to(device), labels.to(device)\n",
        "\n",
        "        # Forward pass\n",
        "        outputs = model(inputs)\n",
        "        loss = criterion(outputs, labels)\n",
        "\n",
        "        # Calculate accuracy\n",
        "        _, preds = torch.max(outputs, 1)\n",
        "        correct_predictions += torch.sum(preds == labels.data)\n",
        "        test_loss += loss.item() * inputs.size(0)\n",
        "\n",
        "# Calculate average loss and accuracy\n",
        "test_loss = test_loss / dataset_sizes['test']\n",
        "test_acc = correct_predictions.double() / dataset_sizes['test']\n",
        "\n",
        "print(f'Test Loss: {test_loss:.4f}, Test Accuracy: {test_acc:.4f}')"
      ],
      "metadata": {
        "colab": {
          "base_uri": "https://localhost:8080/"
        },
        "id": "6Qoz1sZIqB3a",
        "outputId": "f2912739-7767-4796-a52a-3d5d09c56227"
      },
      "execution_count": null,
      "outputs": [
        {
          "output_type": "stream",
          "name": "stdout",
          "text": [
            "Test Loss: 0.1790, Test Accuracy: 0.9297\n"
          ]
        }
      ]
    },
    {
      "cell_type": "code",
      "source": [
        "torch.save(model.state_dict(), '/content/disease_classification_model.pth')"
      ],
      "metadata": {
        "id": "TgenWnc7N4I6"
      },
      "execution_count": null,
      "outputs": []
    }
  ]
}